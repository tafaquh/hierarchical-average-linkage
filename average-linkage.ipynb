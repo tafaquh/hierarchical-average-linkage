{
 "cells": [
  {
   "cell_type": "markdown",
   "metadata": {},
   "source": [
    "## Hierarchical Clustering using Average Linkage"
   ]
  },
  {
   "cell_type": "code",
   "execution_count": 2,
   "metadata": {},
   "outputs": [],
   "source": [
    "from pprint import pprint\n",
    "import math, csv, copy, sys, time, pandas as pd"
   ]
  },
  {
   "cell_type": "code",
   "execution_count": 3,
   "metadata": {},
   "outputs": [],
   "source": [
    "#variables\n",
    "k = 3 #number of cluster\n",
    "m_distance = [] #matrix distances between two points\n",
    "m_data = [] #matrix of data training \n"
   ]
  },
  {
   "cell_type": "code",
   "execution_count": 4,
   "metadata": {},
   "outputs": [],
   "source": [
    "#method read iris file\n",
    "def readFile(m_data):\n",
    "    with open(str('iris.data.txt'), 'r') as csvfile:\n",
    "        lines = csv.reader(csvfile)\n",
    "        for row in lines:\n",
    "            row.pop(4)\n",
    "            m_data.append([ float(x) for x in row ])"
   ]
  },
  {
   "cell_type": "code",
   "execution_count": 5,
   "metadata": {},
   "outputs": [],
   "source": [
    "#method for count distance between two data\n",
    "def euclideanDistance(p, q):\n",
    "    result = 0\n",
    "    # Substract each coordinate point \n",
    "    #(p1 - q1, p2 - q2, ... pn - qn)\n",
    "\n",
    "    for idx,item in enumerate(p):\n",
    "        result += math.pow(math.fabs(item - q[idx]),2)\n",
    "    return math.pow(result,0.5)    "
   ]
  },
  {
   "cell_type": "code",
   "execution_count": 6,
   "metadata": {},
   "outputs": [],
   "source": [
    "#method for measure distances\n",
    "def distances():\n",
    "    for idx,datum in enumerate(m_data):\n",
    "        distance = [] #matriks distances between target and data\n",
    "        if(idx == 0): distance.append(0)\n",
    "        else:\n",
    "            for i in range(0, idx+1):\n",
    "                distance.append(euclideanDistance(m_data[idx], m_data[i]))\n",
    "        m_distance.append(distance)\n"
   ]
  },
  {
   "cell_type": "code",
   "execution_count": 7,
   "metadata": {},
   "outputs": [],
   "source": [
    "readFile(m_data)\n",
    "distances()\n",
    "m_cluster = dict(zip([x for x in range(0,len(m_distance))], [[x] for x in range(0,len(m_distance))]))"
   ]
  },
  {
   "cell_type": "code",
   "execution_count": 8,
   "metadata": {
    "scrolled": true
   },
   "outputs": [],
   "source": [
    "def getClusterDistance(x,y):\n",
    "    averages = []\n",
    "    \n",
    "    for x_item in m_cluster[x]:\n",
    "        for y_item in m_cluster[y]:\n",
    "            #print(x_item,y_item)\n",
    "            averages.append(m_distance[max(x_item,y_item)][min(x_item,y_item)])\n",
    "    return sum(averages) / len(averages)\n"
   ]
  },
  {
   "cell_type": "code",
   "execution_count": 9,
   "metadata": {},
   "outputs": [
    {
     "name": "stdout",
     "output_type": "stream",
     "text": [
      "cluster length so far: 150\n",
      "cluster length so far: 75\n",
      "cluster length so far: 38\n",
      "cluster length so far: 19\n",
      "cluster length so far: 10\n",
      "cluster length so far: 5\n",
      "time elapse: 0.021824359893798828\n"
     ]
    }
   ],
   "source": [
    "start_time = time.time()\n",
    "\n",
    "while(len(m_cluster.keys()) > k):\n",
    "    print(\"cluster length so far: \"+str(len(m_cluster.keys())))\n",
    "    #update cluster length\n",
    "    c_length = len(m_cluster.keys())\n",
    "    \n",
    "    try:\n",
    "        for idx in range(0, c_length):\n",
    "            key = list(m_cluster.keys())[idx]\n",
    "            closest_distance = []\n",
    "            closest_index = []\n",
    "            \n",
    "            #Get closest cluster\n",
    "            for j,target in enumerate(m_cluster.keys()):\n",
    "                if(target >= key+1):\n",
    "                    closest_distance.append(getClusterDistance(target, key))\n",
    "                    closest_index.append([target,key])\n",
    "            try:\n",
    "                new_cluster = closest_index[closest_distance.index(min(closest_distance))][0]\n",
    "                \n",
    "                #Merge cluster\n",
    "                if(new_cluster not in m_cluster[key]):\n",
    "                    for item in m_cluster[new_cluster]:\n",
    "                        m_cluster[key].append(item)\n",
    "                    m_cluster.pop(new_cluster)\n",
    "                    c_length = len(m_cluster.keys())\n",
    "\n",
    "            except Exception:\n",
    "                continue\n",
    "                \n",
    "    except IndexError:\n",
    "        continue\n",
    "\n",
    "elapsed_time = time.time() - start_time\n",
    "print(\"time elapse: \"+str(elapsed_time))"
   ]
  },
  {
   "cell_type": "code",
   "execution_count": 11,
   "metadata": {},
   "outputs": [],
   "source": [
    "#pprint(m_cluster)"
   ]
  },
  {
   "cell_type": "code",
   "execution_count": 10,
   "metadata": {},
   "outputs": [],
   "source": [
    "data = []\n",
    "with open(str('iris.data.txt'), 'r') as csvfile:\n",
    "    lines = csv.reader(csvfile)\n",
    "    for row in lines:\n",
    "        data.append(row)\n",
    "        \n",
    "for item in m_cluster.keys():\n",
    "    for value in m_cluster[item]:\n",
    "        data[value].append(item)\n",
    "#pprint(m_data)"
   ]
  },
  {
   "cell_type": "code",
   "execution_count": 12,
   "metadata": {},
   "outputs": [
    {
     "name": "stdout",
     "output_type": "stream",
     "text": [
      "[['5.1', '3.5', '1.4', '0.2', 'Iris-setosa', 0],\n",
      " ['4.9', '3.0', '1.4', '0.2', 'Iris-setosa', 0],\n",
      " ['4.7', '3.2', '1.3', '0.2', 'Iris-setosa', 0],\n",
      " ['4.6', '3.1', '1.5', '0.2', 'Iris-setosa', 0],\n",
      " ['5.0', '3.6', '1.4', '0.2', 'Iris-setosa', 0],\n",
      " ['5.4', '3.9', '1.7', '0.4', 'Iris-setosa', 0],\n",
      " ['4.6', '3.4', '1.4', '0.3', 'Iris-setosa', 0],\n",
      " ['5.0', '3.4', '1.5', '0.2', 'Iris-setosa', 0],\n",
      " ['4.4', '2.9', '1.4', '0.2', 'Iris-setosa', 0],\n",
      " ['4.9', '3.1', '1.5', '0.1', 'Iris-setosa', 0],\n",
      " ['5.4', '3.7', '1.5', '0.2', 'Iris-setosa', 0],\n",
      " ['4.8', '3.4', '1.6', '0.2', 'Iris-setosa', 0],\n",
      " ['4.8', '3.0', '1.4', '0.1', 'Iris-setosa', 0],\n",
      " ['4.3', '3.0', '1.1', '0.1', 'Iris-setosa', 0],\n",
      " ['5.8', '4.0', '1.2', '0.2', 'Iris-setosa', 0],\n",
      " ['5.7', '4.4', '1.5', '0.4', 'Iris-setosa', 0],\n",
      " ['5.4', '3.9', '1.3', '0.4', 'Iris-setosa', 0],\n",
      " ['5.1', '3.5', '1.4', '0.3', 'Iris-setosa', 0],\n",
      " ['5.7', '3.8', '1.7', '0.3', 'Iris-setosa', 0],\n",
      " ['5.1', '3.8', '1.5', '0.3', 'Iris-setosa', 0],\n",
      " ['5.4', '3.4', '1.7', '0.2', 'Iris-setosa', 0],\n",
      " ['5.1', '3.7', '1.5', '0.4', 'Iris-setosa', 0],\n",
      " ['4.6', '3.6', '1.0', '0.2', 'Iris-setosa', 0],\n",
      " ['5.1', '3.3', '1.7', '0.5', 'Iris-setosa', 0],\n",
      " ['4.8', '3.4', '1.9', '0.2', 'Iris-setosa', 0],\n",
      " ['5.0', '3.0', '1.6', '0.2', 'Iris-setosa', 0],\n",
      " ['5.0', '3.4', '1.6', '0.4', 'Iris-setosa', 0],\n",
      " ['5.2', '3.5', '1.5', '0.2', 'Iris-setosa', 0],\n",
      " ['5.2', '3.4', '1.4', '0.2', 'Iris-setosa', 0],\n",
      " ['4.7', '3.2', '1.6', '0.2', 'Iris-setosa', 0],\n",
      " ['4.8', '3.1', '1.6', '0.2', 'Iris-setosa', 0],\n",
      " ['5.4', '3.4', '1.5', '0.4', 'Iris-setosa', 0],\n",
      " ['5.2', '4.1', '1.5', '0.1', 'Iris-setosa', 0],\n",
      " ['5.5', '4.2', '1.4', '0.2', 'Iris-setosa', 0],\n",
      " ['4.9', '3.1', '1.5', '0.1', 'Iris-setosa', 0],\n",
      " ['5.0', '3.2', '1.2', '0.2', 'Iris-setosa', 0],\n",
      " ['5.5', '3.5', '1.3', '0.2', 'Iris-setosa', 0],\n",
      " ['4.9', '3.1', '1.5', '0.1', 'Iris-setosa', 0],\n",
      " ['4.4', '3.0', '1.3', '0.2', 'Iris-setosa', 0],\n",
      " ['5.1', '3.4', '1.5', '0.2', 'Iris-setosa', 0],\n",
      " ['5.0', '3.5', '1.3', '0.3', 'Iris-setosa', 0],\n",
      " ['4.5', '2.3', '1.3', '0.3', 'Iris-setosa', 0],\n",
      " ['4.4', '3.2', '1.3', '0.2', 'Iris-setosa', 0],\n",
      " ['5.0', '3.5', '1.6', '0.6', 'Iris-setosa', 0],\n",
      " ['5.1', '3.8', '1.9', '0.4', 'Iris-setosa', 0],\n",
      " ['4.8', '3.0', '1.4', '0.3', 'Iris-setosa', 0],\n",
      " ['5.1', '3.8', '1.6', '0.2', 'Iris-setosa', 0],\n",
      " ['4.6', '3.2', '1.4', '0.2', 'Iris-setosa', 0],\n",
      " ['5.3', '3.7', '1.5', '0.2', 'Iris-setosa', 0],\n",
      " ['5.0', '3.3', '1.4', '0.2', 'Iris-setosa', 0],\n",
      " ['7.0', '3.2', '4.7', '1.4', 'Iris-versicolor', 50],\n",
      " ['6.4', '3.2', '4.5', '1.5', 'Iris-versicolor', 50],\n",
      " ['6.9', '3.1', '4.9', '1.5', 'Iris-versicolor', 50],\n",
      " ['5.5', '2.3', '4.0', '1.3', 'Iris-versicolor', 0],\n",
      " ['6.5', '2.8', '4.6', '1.5', 'Iris-versicolor', 50],\n",
      " ['5.7', '2.8', '4.5', '1.3', 'Iris-versicolor', 50],\n",
      " ['6.3', '3.3', '4.7', '1.6', 'Iris-versicolor', 50],\n",
      " ['4.9', '2.4', '3.3', '1.0', 'Iris-versicolor', 0],\n",
      " ['6.6', '2.9', '4.6', '1.3', 'Iris-versicolor', 50],\n",
      " ['5.2', '2.7', '3.9', '1.4', 'Iris-versicolor', 0],\n",
      " ['5.0', '2.0', '3.5', '1.0', 'Iris-versicolor', 0],\n",
      " ['5.9', '3.0', '4.2', '1.5', 'Iris-versicolor', 50],\n",
      " ['6.0', '2.2', '4.0', '1.0', 'Iris-versicolor', 50],\n",
      " ['6.1', '2.9', '4.7', '1.4', 'Iris-versicolor', 50],\n",
      " ['5.6', '2.9', '3.6', '1.3', 'Iris-versicolor', 0],\n",
      " ['6.7', '3.1', '4.4', '1.4', 'Iris-versicolor', 50],\n",
      " ['5.6', '3.0', '4.5', '1.5', 'Iris-versicolor', 50],\n",
      " ['5.8', '2.7', '4.1', '1.0', 'Iris-versicolor', 0],\n",
      " ['6.2', '2.2', '4.5', '1.5', 'Iris-versicolor', 50],\n",
      " ['5.6', '2.5', '3.9', '1.1', 'Iris-versicolor', 0],\n",
      " ['5.9', '3.2', '4.8', '1.8', 'Iris-versicolor', 50],\n",
      " ['6.1', '2.8', '4.0', '1.3', 'Iris-versicolor', 50],\n",
      " ['6.3', '2.5', '4.9', '1.5', 'Iris-versicolor', 50],\n",
      " ['6.1', '2.8', '4.7', '1.2', 'Iris-versicolor', 50],\n",
      " ['6.4', '2.9', '4.3', '1.3', 'Iris-versicolor', 50],\n",
      " ['6.6', '3.0', '4.4', '1.4', 'Iris-versicolor', 50],\n",
      " ['6.8', '2.8', '4.8', '1.4', 'Iris-versicolor', 50],\n",
      " ['6.7', '3.0', '5.0', '1.7', 'Iris-versicolor', 50],\n",
      " ['6.0', '2.9', '4.5', '1.5', 'Iris-versicolor', 50],\n",
      " ['5.7', '2.6', '3.5', '1.0', 'Iris-versicolor', 50],\n",
      " ['5.5', '2.4', '3.8', '1.1', 'Iris-versicolor', 0],\n",
      " ['5.5', '2.4', '3.7', '1.0', 'Iris-versicolor', 0],\n",
      " ['5.8', '2.7', '3.9', '1.2', 'Iris-versicolor', 0],\n",
      " ['6.0', '2.7', '5.1', '1.6', 'Iris-versicolor', 50],\n",
      " ['5.4', '3.0', '4.5', '1.5', 'Iris-versicolor', 50],\n",
      " ['6.0', '3.4', '4.5', '1.6', 'Iris-versicolor', 50],\n",
      " ['6.7', '3.1', '4.7', '1.5', 'Iris-versicolor', 50],\n",
      " ['6.3', '2.3', '4.4', '1.3', 'Iris-versicolor', 50],\n",
      " ['5.6', '3.0', '4.1', '1.3', 'Iris-versicolor', 50],\n",
      " ['5.5', '2.5', '4.0', '1.3', 'Iris-versicolor', 0],\n",
      " ['5.5', '2.6', '4.4', '1.2', 'Iris-versicolor', 50],\n",
      " ['6.1', '3.0', '4.6', '1.4', 'Iris-versicolor', 50],\n",
      " ['5.8', '2.6', '4.0', '1.2', 'Iris-versicolor', 50],\n",
      " ['5.0', '2.3', '3.3', '1.0', 'Iris-versicolor', 0],\n",
      " ['5.6', '2.7', '4.2', '1.3', 'Iris-versicolor', 0],\n",
      " ['5.7', '3.0', '4.2', '1.2', 'Iris-versicolor', 50],\n",
      " ['5.7', '2.9', '4.2', '1.3', 'Iris-versicolor', 50],\n",
      " ['6.2', '2.9', '4.3', '1.3', 'Iris-versicolor', 50],\n",
      " ['5.1', '2.5', '3.0', '1.1', 'Iris-versicolor', 50],\n",
      " ['5.7', '2.8', '4.1', '1.3', 'Iris-versicolor', 0],\n",
      " ['6.3', '3.3', '6.0', '2.5', 'Iris-virginica', 50],\n",
      " ['5.8', '2.7', '5.1', '1.9', 'Iris-virginica', 50],\n",
      " ['7.1', '3.0', '5.9', '2.1', 'Iris-virginica', 102],\n",
      " ['6.3', '2.9', '5.6', '1.8', 'Iris-virginica', 50],\n",
      " ['6.5', '3.0', '5.8', '2.2', 'Iris-virginica', 50],\n",
      " ['7.6', '3.0', '6.6', '2.1', 'Iris-virginica', 102],\n",
      " ['4.9', '2.5', '4.5', '1.7', 'Iris-virginica', 50],\n",
      " ['7.3', '2.9', '6.3', '1.8', 'Iris-virginica', 102],\n",
      " ['6.7', '2.5', '5.8', '1.8', 'Iris-virginica', 102],\n",
      " ['7.2', '3.6', '6.1', '2.5', 'Iris-virginica', 102],\n",
      " ['6.5', '3.2', '5.1', '2.0', 'Iris-virginica', 50],\n",
      " ['6.4', '2.7', '5.3', '1.9', 'Iris-virginica', 50],\n",
      " ['6.8', '3.0', '5.5', '2.1', 'Iris-virginica', 102],\n",
      " ['5.7', '2.5', '5.0', '2.0', 'Iris-virginica', 50],\n",
      " ['5.8', '2.8', '5.1', '2.4', 'Iris-virginica', 50],\n",
      " ['6.4', '3.2', '5.3', '2.3', 'Iris-virginica', 50],\n",
      " ['6.5', '3.0', '5.5', '1.8', 'Iris-virginica', 50],\n",
      " ['7.7', '3.8', '6.7', '2.2', 'Iris-virginica', 102],\n",
      " ['7.7', '2.6', '6.9', '2.3', 'Iris-virginica', 102],\n",
      " ['6.0', '2.2', '5.0', '1.5', 'Iris-virginica', 50],\n",
      " ['6.9', '3.2', '5.7', '2.3', 'Iris-virginica', 102],\n",
      " ['5.6', '2.8', '4.9', '2.0', 'Iris-virginica', 50],\n",
      " ['7.7', '2.8', '6.7', '2.0', 'Iris-virginica', 102],\n",
      " ['6.3', '2.7', '4.9', '1.8', 'Iris-virginica', 50],\n",
      " ['6.7', '3.3', '5.7', '2.1', 'Iris-virginica', 102],\n",
      " ['7.2', '3.2', '6.0', '1.8', 'Iris-virginica', 102],\n",
      " ['6.2', '2.8', '4.8', '1.8', 'Iris-virginica', 50],\n",
      " ['6.1', '3.0', '4.9', '1.8', 'Iris-virginica', 50],\n",
      " ['6.4', '2.8', '5.6', '2.1', 'Iris-virginica', 102],\n",
      " ['7.2', '3.0', '5.8', '1.6', 'Iris-virginica', 102],\n",
      " ['7.4', '2.8', '6.1', '1.9', 'Iris-virginica', 102],\n",
      " ['7.9', '3.8', '6.4', '2.0', 'Iris-virginica', 102],\n",
      " ['6.4', '2.8', '5.6', '2.2', 'Iris-virginica', 50],\n",
      " ['6.3', '2.8', '5.1', '1.5', 'Iris-virginica', 50],\n",
      " ['6.1', '2.6', '5.6', '1.4', 'Iris-virginica', 50],\n",
      " ['7.7', '3.0', '6.1', '2.3', 'Iris-virginica', 102],\n",
      " ['6.3', '3.4', '5.6', '2.4', 'Iris-virginica', 50],\n",
      " ['6.4', '3.1', '5.5', '1.8', 'Iris-virginica', 102],\n",
      " ['6.0', '3.0', '4.8', '1.8', 'Iris-virginica', 50],\n",
      " ['6.9', '3.1', '5.4', '2.1', 'Iris-virginica', 102],\n",
      " ['6.7', '3.1', '5.6', '2.4', 'Iris-virginica', 102],\n",
      " ['6.9', '3.1', '5.1', '2.3', 'Iris-virginica', 50],\n",
      " ['5.8', '2.7', '5.1', '1.9', 'Iris-virginica', 50],\n",
      " ['6.8', '3.2', '5.9', '2.3', 'Iris-virginica', 102],\n",
      " ['6.7', '3.3', '5.7', '2.5', 'Iris-virginica', 102],\n",
      " ['6.7', '3.0', '5.2', '2.3', 'Iris-virginica', 50],\n",
      " ['6.3', '2.5', '5.0', '1.9', 'Iris-virginica', 50],\n",
      " ['6.5', '3.0', '5.2', '2.0', 'Iris-virginica', 50],\n",
      " ['6.2', '3.4', '5.4', '2.3', 'Iris-virginica', 50],\n",
      " ['5.9', '3.0', '5.1', '1.8', 'Iris-virginica', 50]]\n"
     ]
    }
   ],
   "source": [
    "pprint(data)"
   ]
  },
  {
   "cell_type": "code",
   "execution_count": 14,
   "metadata": {},
   "outputs": [],
   "source": [
    "df = pd.DataFrame(data, columns=[\"sepal_length\", \"sepal_width\", \"petal_length\", \"petal_width\", \"class\", \"cluster\"])\n",
    "df.to_csv('../output/output_average.csv', index=False) "
   ]
  },
  {
   "cell_type": "code",
   "execution_count": null,
   "metadata": {},
   "outputs": [],
   "source": []
  },
  {
   "cell_type": "code",
   "execution_count": null,
   "metadata": {},
   "outputs": [],
   "source": []
  }
 ],
 "metadata": {
  "kernelspec": {
   "display_name": "Python 3",
   "language": "python",
   "name": "python3"
  },
  "language_info": {
   "codemirror_mode": {
    "name": "ipython",
    "version": 3
   },
   "file_extension": ".py",
   "mimetype": "text/x-python",
   "name": "python",
   "nbconvert_exporter": "python",
   "pygments_lexer": "ipython3",
   "version": "3.6.3"
  }
 },
 "nbformat": 4,
 "nbformat_minor": 2
}
